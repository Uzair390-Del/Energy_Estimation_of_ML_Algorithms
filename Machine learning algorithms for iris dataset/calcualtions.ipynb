{
 "cells": [
  {
   "cell_type": "markdown",
   "metadata": {},
   "source": [
    "# Average Calculation of Time"
   ]
  },
  {
   "cell_type": "code",
   "execution_count": 8,
   "metadata": {},
   "outputs": [],
   "source": [
    "def calculate_average_time(times):\n",
    "    if not times:\n",
    "        return 0  # Avoid division by zero if the list is empty\n",
    "    total_seconds = sum(time.total_seconds() for time in times)\n",
    "    average_seconds = total_seconds / len(times)\n",
    "    average_time = timedelta(seconds=average_seconds)\n",
    "    return average_time"
   ]
  },
  {
   "cell_type": "code",
   "execution_count": 9,
   "metadata": {},
   "outputs": [
    {
     "name": "stdout",
     "output_type": "stream",
     "text": [
      "Average Time: 0:03:24.070000\n"
     ]
    }
   ],
   "source": [
    "from datetime import timedelta\n",
    "\n",
    "time_values = [timedelta( seconds=200.34 ),\n",
    "               timedelta( seconds=204.36 ),\n",
    "               timedelta( seconds=206.15),\n",
    "               timedelta( seconds=208.84),\n",
    "               timedelta( seconds=200.66 )]\n",
    "\n",
    "average_time = calculate_average_time(time_values)\n",
    "print(f\"Average Time: {average_time}\")"
   ]
  },
  {
   "cell_type": "markdown",
   "metadata": {},
   "source": [
    "# Average Percentage Calculations of Memory and Cpu utilization:\n"
   ]
  },
  {
   "cell_type": "code",
   "execution_count": 10,
   "metadata": {},
   "outputs": [],
   "source": [
    "def calculate_average_percentage(percentages):\n",
    "    if not percentages:\n",
    "        return 0  # Avoid division by zero if the list is empty\n",
    "    total_percentage = sum(percentages)\n",
    "    average_percentage = total_percentage / len(percentages)\n",
    "    return average_percentage"
   ]
  },
  {
   "cell_type": "code",
   "execution_count": 11,
   "metadata": {},
   "outputs": [
    {
     "name": "stdout",
     "output_type": "stream",
     "text": [
      "Average Percentage of Cpu utilization: 32.32%\n"
     ]
    }
   ],
   "source": [
    "percentage_values = [32.3,31.4,30.5,35.3,32.1]\n",
    "\n",
    "average_percentage = calculate_average_percentage(percentage_values)\n",
    "print(f\"Average Percentage of Cpu utilization: {average_percentage}%\")"
   ]
  },
  {
   "cell_type": "code",
   "execution_count": null,
   "metadata": {},
   "outputs": [],
   "source": [
    "percentage_values = [50.77,48.66,48.09,47.94,46.58]\n",
    "\n",
    "average_percentage = calculate_average_percentage(percentage_values)\n",
    "print(f\"Average Percentage of Memory Utilization: {average_percentage}%\")"
   ]
  },
  {
   "cell_type": "markdown",
   "metadata": {},
   "source": [
    "# Conversion Of Percentage Value to normal Value"
   ]
  },
  {
   "cell_type": "code",
   "execution_count": 14,
   "metadata": {},
   "outputs": [
    {
     "name": "stdout",
     "output_type": "stream",
     "text": [
      "32.32% is equivalent to 0.3232 as a normal value.\n"
     ]
    }
   ],
   "source": [
    "def percentage_to_normal(percentage):\n",
    "    \n",
    "    normal_value = percentage / 100.0\n",
    "    return normal_value\n",
    "\n",
    "# Example usage:\n",
    "percentage_value = 32.32\n",
    "normal_value = percentage_to_normal(percentage_value)\n",
    "\n",
    "print(f\"{percentage_value}% is equivalent to {normal_value} as a normal value.\")"
   ]
  },
  {
   "cell_type": "code",
   "execution_count": 15,
   "metadata": {},
   "outputs": [
    {
     "data": {
      "text/plain": [
       "31.6544"
      ]
     },
     "execution_count": 15,
     "metadata": {},
     "output_type": "execute_result"
    }
   ],
   "source": [
    "Power=((1- 0.3232 )*10)+( 0.3232 *(77))\n",
    "Power"
   ]
  },
  {
   "cell_type": "code",
   "execution_count": 17,
   "metadata": {},
   "outputs": [
    {
     "data": {
      "text/plain": [
       "1277.506768"
      ]
     },
     "execution_count": 17,
     "metadata": {},
     "output_type": "execute_result"
    }
   ],
   "source": [
    "Energy=48.56*26.3078\n",
    "Energy"
   ]
  },
  {
   "cell_type": "code",
   "execution_count": null,
   "metadata": {},
   "outputs": [],
   "source": []
  }
 ],
 "metadata": {
  "kernelspec": {
   "display_name": "Python 3",
   "language": "python",
   "name": "python3"
  },
  "language_info": {
   "codemirror_mode": {
    "name": "ipython",
    "version": 3
   },
   "file_extension": ".py",
   "mimetype": "text/x-python",
   "name": "python",
   "nbconvert_exporter": "python",
   "pygments_lexer": "ipython3",
   "version": "3.7.9"
  }
 },
 "nbformat": 4,
 "nbformat_minor": 2
}
