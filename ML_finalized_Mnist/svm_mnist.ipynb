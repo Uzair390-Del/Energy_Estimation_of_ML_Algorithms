{
 "cells": [
  {
   "cell_type": "markdown",
   "metadata": {},
   "source": [
    "# 2"
   ]
  },
  {
   "cell_type": "code",
   "execution_count": 1,
   "metadata": {},
   "outputs": [
    {
     "name": "stdout",
     "output_type": "stream",
     "text": [
      "Training time: 199.96 seconds\n",
      "CPU Utilization: 17.9%\n",
      "Memory Usage: 69.8%\n"
     ]
    }
   ],
   "source": [
    "import numpy as np\n",
    "import psutil\n",
    "import time\n",
    "from sklearn.datasets import fetch_openml\n",
    "from sklearn.model_selection import train_test_split\n",
    "from sklearn.svm import SVC\n",
    "from sklearn.metrics import accuracy_score\n",
    "\n",
    "# Load MNIST data\n",
    "mnist = fetch_openml('mnist_784', as_frame=True)\n",
    "X, y = mnist.data.astype('float32').to_numpy(), mnist.target.astype('int')\n",
    "\n",
    "# Flatten the images\n",
    "X_flatten = np.array([image.flatten() for image in X])\n",
    "\n",
    "# Split the data into training and testing sets\n",
    "X_train, X_test, y_train, y_test = train_test_split(X_flatten, y, test_size=0.2, random_state=42)\n",
    "\n",
    "class CustomSVM:\n",
    "    def __init__(self, kernel='rbf', C=1.0):\n",
    "        self.model = SVC(kernel=kernel, C=C)\n",
    "\n",
    "    def fit(self, X_train, y_train):\n",
    "        start_time = time.time()\n",
    "\n",
    "        # Fit the scikit-learn SVM model\n",
    "        self.model.fit(X_train, y_train)\n",
    "\n",
    "        end_time = time.time()\n",
    "        training_time = end_time - start_time\n",
    "        print(f\"Training time: {training_time:.2f} seconds\")\n",
    "\n",
    "        # Monitor system status\n",
    "        cpu_percent = psutil.cpu_percent()\n",
    "        memory_percent = psutil.virtual_memory().percent\n",
    "        print(f\"CPU Utilization: {cpu_percent}%\")\n",
    "        print(f\"Memory Usage: {memory_percent}%\")\n",
    "\n",
    "    def predict(self, X_test):\n",
    "        # Make predictions using the scikit-learn model\n",
    "        return self.model.predict(X_test)\n",
    "\n",
    "# Instantiate and fit the custom model\n",
    "svm_model = CustomSVM()\n",
    "svm_model.fit(X_train, y_train)\n",
    "\n",
    "# Make predictions on the test set\n",
    "#svm_predictions = svm_model.predict(X_test)\n",
    "\n",
    "# Evaluate accuracy\n",
    "#svm_accuracy = accuracy_score(y_test, svm_predictions)\n",
    "#print(f\"SVM Accuracy: {svm_accuracy}\")\n"
   ]
  },
  {
   "cell_type": "markdown",
   "metadata": {},
   "source": [
    "# 3"
   ]
  },
  {
   "cell_type": "code",
   "execution_count": 2,
   "metadata": {},
   "outputs": [
    {
     "name": "stdout",
     "output_type": "stream",
     "text": [
      "Training time: 210.64 seconds\n",
      "CPU Utilization: 18.6%\n",
      "Memory Usage: 69.4%\n"
     ]
    }
   ],
   "source": [
    "import numpy as np\n",
    "import psutil\n",
    "import time\n",
    "from sklearn.datasets import fetch_openml\n",
    "from sklearn.model_selection import train_test_split\n",
    "from sklearn.svm import SVC\n",
    "from sklearn.metrics import accuracy_score\n",
    "\n",
    "# Load MNIST data\n",
    "mnist = fetch_openml('mnist_784', as_frame=True)\n",
    "X, y = mnist.data.astype('float32').to_numpy(), mnist.target.astype('int')\n",
    "\n",
    "# Flatten the images\n",
    "X_flatten = np.array([image.flatten() for image in X])\n",
    "\n",
    "# Split the data into training and testing sets\n",
    "X_train, X_test, y_train, y_test = train_test_split(X_flatten, y, test_size=0.2, random_state=42)\n",
    "\n",
    "class CustomSVM:\n",
    "    def __init__(self, kernel='rbf', C=1.0):\n",
    "        self.model = SVC(kernel=kernel, C=C)\n",
    "\n",
    "    def fit(self, X_train, y_train):\n",
    "        start_time = time.time()\n",
    "\n",
    "        # Fit the scikit-learn SVM model\n",
    "        self.model.fit(X_train, y_train)\n",
    "\n",
    "        end_time = time.time()\n",
    "        training_time = end_time - start_time\n",
    "        print(f\"Training time: {training_time:.2f} seconds\")\n",
    "\n",
    "        # Monitor system status\n",
    "        cpu_percent = psutil.cpu_percent()\n",
    "        memory_percent = psutil.virtual_memory().percent\n",
    "        print(f\"CPU Utilization: {cpu_percent}%\")\n",
    "        print(f\"Memory Usage: {memory_percent}%\")\n",
    "\n",
    "    def predict(self, X_test):\n",
    "        # Make predictions using the scikit-learn model\n",
    "        return self.model.predict(X_test)\n",
    "\n",
    "# Instantiate and fit the custom model\n",
    "svm_model = CustomSVM()\n",
    "svm_model.fit(X_train, y_train)\n",
    "\n",
    "# Make predictions on the test set\n",
    "#svm_predictions = svm_model.predict(X_test)\n",
    "\n",
    "# Evaluate accuracy\n",
    "#svm_accuracy = accuracy_score(y_test, svm_predictions)\n",
    "#print(f\"SVM Accuracy: {svm_accuracy}\")\n"
   ]
  },
  {
   "cell_type": "markdown",
   "metadata": {},
   "source": [
    "# 4"
   ]
  },
  {
   "cell_type": "code",
   "execution_count": 3,
   "metadata": {},
   "outputs": [
    {
     "name": "stdout",
     "output_type": "stream",
     "text": [
      "Training time: 203.38 seconds\n",
      "CPU Utilization: 19.1%\n",
      "Memory Usage: 66.1%\n"
     ]
    }
   ],
   "source": [
    "import numpy as np\n",
    "import psutil\n",
    "import time\n",
    "from sklearn.datasets import fetch_openml\n",
    "from sklearn.model_selection import train_test_split\n",
    "from sklearn.svm import SVC\n",
    "from sklearn.metrics import accuracy_score\n",
    "\n",
    "# Load MNIST data\n",
    "mnist = fetch_openml('mnist_784', as_frame=True)\n",
    "X, y = mnist.data.astype('float32').to_numpy(), mnist.target.astype('int')\n",
    "\n",
    "# Flatten the images\n",
    "X_flatten = np.array([image.flatten() for image in X])\n",
    "\n",
    "# Split the data into training and testing sets\n",
    "X_train, X_test, y_train, y_test = train_test_split(X_flatten, y, test_size=0.2, random_state=42)\n",
    "\n",
    "class CustomSVM:\n",
    "    def __init__(self, kernel='rbf', C=1.0):\n",
    "        self.model = SVC(kernel=kernel, C=C)\n",
    "\n",
    "    def fit(self, X_train, y_train):\n",
    "        start_time = time.time()\n",
    "\n",
    "        # Fit the scikit-learn SVM model\n",
    "        self.model.fit(X_train, y_train)\n",
    "\n",
    "        end_time = time.time()\n",
    "        training_time = end_time - start_time\n",
    "        print(f\"Training time: {training_time:.2f} seconds\")\n",
    "\n",
    "        # Monitor system status\n",
    "        cpu_percent = psutil.cpu_percent()\n",
    "        memory_percent = psutil.virtual_memory().percent\n",
    "        print(f\"CPU Utilization: {cpu_percent}%\")\n",
    "        print(f\"Memory Usage: {memory_percent}%\")\n",
    "\n",
    "    def predict(self, X_test):\n",
    "        # Make predictions using the scikit-learn model\n",
    "        return self.model.predict(X_test)\n",
    "\n",
    "# Instantiate and fit the custom model\n",
    "svm_model = CustomSVM()\n",
    "svm_model.fit(X_train, y_train)\n",
    "\n",
    "# Make predictions on the test set\n",
    "#svm_predictions = svm_model.predict(X_test)\n",
    "\n",
    "# Evaluate accuracy\n",
    "#svm_accuracy = accuracy_score(y_test, svm_predictions)\n",
    "#print(f\"SVM Accuracy: {svm_accuracy}\")\n"
   ]
  },
  {
   "cell_type": "markdown",
   "metadata": {},
   "source": [
    "# 5"
   ]
  },
  {
   "cell_type": "code",
   "execution_count": 4,
   "metadata": {},
   "outputs": [
    {
     "name": "stdout",
     "output_type": "stream",
     "text": [
      "Training time: 195.66 seconds\n",
      "CPU Utilization: 17.5%\n",
      "Memory Usage: 66.9%\n"
     ]
    }
   ],
   "source": [
    "import numpy as np\n",
    "import psutil\n",
    "import time\n",
    "from sklearn.datasets import fetch_openml\n",
    "from sklearn.model_selection import train_test_split\n",
    "from sklearn.svm import SVC\n",
    "from sklearn.metrics import accuracy_score\n",
    "\n",
    "# Load MNIST data\n",
    "mnist = fetch_openml('mnist_784', as_frame=True)\n",
    "X, y = mnist.data.astype('float32').to_numpy(), mnist.target.astype('int')\n",
    "\n",
    "# Flatten the images\n",
    "X_flatten = np.array([image.flatten() for image in X])\n",
    "\n",
    "# Split the data into training and testing sets\n",
    "X_train, X_test, y_train, y_test = train_test_split(X_flatten, y, test_size=0.2, random_state=42)\n",
    "\n",
    "class CustomSVM:\n",
    "    def __init__(self, kernel='rbf', C=1.0):\n",
    "        self.model = SVC(kernel=kernel, C=C)\n",
    "\n",
    "    def fit(self, X_train, y_train):\n",
    "        start_time = time.time()\n",
    "\n",
    "        # Fit the scikit-learn SVM model\n",
    "        self.model.fit(X_train, y_train)\n",
    "\n",
    "        end_time = time.time()\n",
    "        training_time = end_time - start_time\n",
    "        print(f\"Training time: {training_time:.2f} seconds\")\n",
    "\n",
    "        # Monitor system status\n",
    "        cpu_percent = psutil.cpu_percent()\n",
    "        memory_percent = psutil.virtual_memory().percent\n",
    "        print(f\"CPU Utilization: {cpu_percent}%\")\n",
    "        print(f\"Memory Usage: {memory_percent}%\")\n",
    "\n",
    "    def predict(self, X_test):\n",
    "        # Make predictions using the scikit-learn model\n",
    "        return self.model.predict(X_test)\n",
    "\n",
    "# Instantiate and fit the custom model\n",
    "svm_model = CustomSVM()\n",
    "svm_model.fit(X_train, y_train)\n",
    "\n",
    "# Make predictions on the test set\n",
    "#svm_predictions = svm_model.predict(X_test)\n",
    "\n",
    "# Evaluate accuracy\n",
    "#svm_accuracy = accuracy_score(y_test, svm_predictions)\n",
    "#print(f\"SVM Accuracy: {svm_accuracy}\")\n"
   ]
  },
  {
   "cell_type": "markdown",
   "metadata": {},
   "source": [
    "# testing the model performance"
   ]
  },
  {
   "cell_type": "code",
   "execution_count": 2,
   "metadata": {},
   "outputs": [
    {
     "name": "stdout",
     "output_type": "stream",
     "text": [
      "Training time: 237.85 seconds\n",
      "CPU Utilization: 9.4%\n",
      "Memory Usage: 76.3%\n"
     ]
    }
   ],
   "source": [
    "import numpy as np\n",
    "import psutil\n",
    "import time\n",
    "from sklearn.datasets import fetch_openml\n",
    "from sklearn.model_selection import train_test_split\n",
    "from sklearn.svm import SVC\n",
    "from sklearn.metrics import accuracy_score\n",
    "\n",
    "# Load MNIST data\n",
    "mnist = fetch_openml('mnist_784', as_frame=True)\n",
    "X, y = mnist.data.astype('float32').to_numpy(), mnist.target.astype('int')\n",
    "\n",
    "# Flatten the images\n",
    "X_flatten = np.array([image.flatten() for image in X])\n",
    "\n",
    "# Split the data into training and testing sets\n",
    "X_train, X_test, y_train, y_test = train_test_split(X_flatten, y, test_size=0.2, random_state=42)\n",
    "\n",
    "class CustomSVM:\n",
    "    def __init__(self, kernel='rbf', C=1.0):\n",
    "        self.model = SVC(kernel=kernel, C=C)\n",
    "\n",
    "    def fit(self, X_train, y_train):\n",
    "        start_time = time.time()\n",
    "\n",
    "        # Fit the scikit-learn SVM model\n",
    "        self.model.fit(X_train, y_train)\n",
    "\n",
    "        end_time = time.time()\n",
    "        training_time = end_time - start_time\n",
    "        print(f\"Training time: {training_time:.2f} seconds\")\n",
    "\n",
    "        # Monitor system status\n",
    "        cpu_percent = psutil.cpu_percent()\n",
    "        memory_percent = psutil.virtual_memory().percent\n",
    "        print(f\"CPU Utilization: {cpu_percent}%\")\n",
    "        print(f\"Memory Usage: {memory_percent}%\")\n",
    "\n",
    "    def predict(self, X_test):\n",
    "        # Make predictions using the scikit-learn model\n",
    "        return self.model.predict(X_test)\n",
    "\n",
    "# Instantiate and fit the custom model\n",
    "svm_model = CustomSVM()\n",
    "svm_model.fit(X_train, y_train)\n",
    "\n",
    "# Make predictions on the test set\n",
    "#svm_predictions = svm_model.predict(X_test)\n",
    "\n",
    "# Evaluate accuracy\n",
    "#svm_accuracy = accuracy_score(y_test, svm_predictions)\n",
    "#print(f\"SVM Accuracy: {svm_accuracy}\")\n"
   ]
  },
  {
   "cell_type": "markdown",
   "metadata": {},
   "source": [
    " # ACCuracy of model \n",
    " "
   ]
  },
  {
   "cell_type": "markdown",
   "metadata": {},
   "source": [
    "#"
   ]
  },
  {
   "cell_type": "code",
   "execution_count": 3,
   "metadata": {},
   "outputs": [
    {
     "name": "stdout",
     "output_type": "stream",
     "text": [
      "SVM Accuracy: 0.9764285714285714\n"
     ]
    }
   ],
   "source": [
    "#Make predictions on the test set\n",
    "svm_predictions = svm_model.predict(X_test)\n",
    "\n",
    "#Evaluate accuracy\n",
    "svm_accuracy = accuracy_score(y_test, svm_predictions)\n",
    "print(f\"SVM Accuracy: {svm_accuracy}\")"
   ]
  },
  {
   "cell_type": "code",
   "execution_count": null,
   "metadata": {},
   "outputs": [],
   "source": [
    "precision = precision_score(y_val, y_pred_val, average='weighted')\n",
    "recall = recall_score(y_val, y_pred_val, average='weighted')\n",
    "f1 = f1_score(y_val, y_pred_val, average='weighted')\n",
    "\n",
    "# Print the results\n",
    "print(f'Precision: {precision:.4f}')\n",
    "print(f'Recall: {recall:.4f}')\n",
    "print(f'F1 Score: {f1:.4f}')\n",
    "\n",
    "# Detailed classification report\n",
    "report = classification_report(y_val, y_pred_val)\n",
    "print(report)"
   ]
  },
  {
   "cell_type": "markdown",
   "metadata": {},
   "source": [
    "# finding out the performance metrics"
   ]
  },
  {
   "cell_type": "code",
   "execution_count": 1,
   "metadata": {},
   "outputs": [
    {
     "name": "stdout",
     "output_type": "stream",
     "text": [
      "Training time: 288.28 seconds\n",
      "CPU Utilization: 8.9%\n",
      "Memory Usage: 95.3%\n"
     ]
    },
    {
     "ename": "NameError",
     "evalue": "name 'svm_predictions' is not defined",
     "output_type": "error",
     "traceback": [
      "\u001b[1;31m---------------------------------------------------------------------------\u001b[0m",
      "\u001b[1;31mNameError\u001b[0m                                 Traceback (most recent call last)",
      "\u001b[1;32m~\\AppData\\Local\\Temp\\ipykernel_2284\\2370705765.py\u001b[0m in \u001b[0;36m<module>\u001b[1;34m\u001b[0m\n\u001b[0;32m     44\u001b[0m \u001b[0msvm_model\u001b[0m \u001b[1;33m=\u001b[0m \u001b[0mCustomSVM\u001b[0m\u001b[1;33m(\u001b[0m\u001b[1;33m)\u001b[0m\u001b[1;33m\u001b[0m\u001b[1;33m\u001b[0m\u001b[0m\n\u001b[0;32m     45\u001b[0m \u001b[0msvm_model\u001b[0m\u001b[1;33m.\u001b[0m\u001b[0mfit\u001b[0m\u001b[1;33m(\u001b[0m\u001b[0mX_train\u001b[0m\u001b[1;33m,\u001b[0m \u001b[0my_train\u001b[0m\u001b[1;33m)\u001b[0m\u001b[1;33m\u001b[0m\u001b[1;33m\u001b[0m\u001b[0m\n\u001b[1;32m---> 46\u001b[1;33m \u001b[0msvm_accuracy\u001b[0m \u001b[1;33m=\u001b[0m \u001b[0maccuracy_score\u001b[0m\u001b[1;33m(\u001b[0m\u001b[0my_test\u001b[0m\u001b[1;33m,\u001b[0m \u001b[0msvm_predictions\u001b[0m\u001b[1;33m)\u001b[0m\u001b[1;33m\u001b[0m\u001b[1;33m\u001b[0m\u001b[0m\n\u001b[0m\u001b[0;32m     47\u001b[0m \u001b[0msvm_precision\u001b[0m \u001b[1;33m=\u001b[0m \u001b[0mprecision_score\u001b[0m\u001b[1;33m(\u001b[0m\u001b[0my_test\u001b[0m\u001b[1;33m,\u001b[0m \u001b[0msvm_predictions\u001b[0m\u001b[1;33m,\u001b[0m \u001b[0maverage\u001b[0m\u001b[1;33m=\u001b[0m\u001b[1;34m'weighted'\u001b[0m\u001b[1;33m)\u001b[0m\u001b[1;33m\u001b[0m\u001b[1;33m\u001b[0m\u001b[0m\n\u001b[0;32m     48\u001b[0m \u001b[0msvm_recall\u001b[0m \u001b[1;33m=\u001b[0m \u001b[0mrecall_score\u001b[0m\u001b[1;33m(\u001b[0m\u001b[0my_test\u001b[0m\u001b[1;33m,\u001b[0m \u001b[0msvm_predictions\u001b[0m\u001b[1;33m,\u001b[0m \u001b[0maverage\u001b[0m\u001b[1;33m=\u001b[0m\u001b[1;34m'weighted'\u001b[0m\u001b[1;33m)\u001b[0m\u001b[1;33m\u001b[0m\u001b[1;33m\u001b[0m\u001b[0m\n",
      "\u001b[1;31mNameError\u001b[0m: name 'svm_predictions' is not defined"
     ]
    }
   ],
   "source": [
    "import numpy as np\n",
    "import psutil\n",
    "import time\n",
    "from sklearn.datasets import fetch_openml\n",
    "from sklearn.model_selection import train_test_split\n",
    "from sklearn.svm import SVC\n",
    "from sklearn.metrics import accuracy_score, precision_score, recall_score, f1_score, confusion_matrix\n",
    "\n",
    "# Load MNIST data\n",
    "mnist = fetch_openml('mnist_784', as_frame=True)\n",
    "X, y = mnist.data.astype('float32').to_numpy(), mnist.target.astype('int')\n",
    "\n",
    "# Flatten the images\n",
    "X_flatten = np.array([image.flatten() for image in X])\n",
    "\n",
    "# Split the data into training and testing sets\n",
    "X_train, X_test, y_train, y_test = train_test_split(X_flatten, y, test_size=0.2, random_state=42)\n",
    "\n",
    "class CustomSVM:\n",
    "    def __init__(self, kernel='rbf', C=1.0):\n",
    "        self.model = SVC(kernel=kernel, C=C)\n",
    "\n",
    "    def fit(self, X_train, y_train):\n",
    "        start_time = time.time()\n",
    "\n",
    "        # Fit the scikit-learn SVM model\n",
    "        self.model.fit(X_train, y_train)\n",
    "\n",
    "        end_time = time.time()\n",
    "        training_time = end_time - start_time\n",
    "        print(f\"Training time: {training_time:.2f} seconds\")\n",
    "\n",
    "        # Monitor system status\n",
    "        cpu_percent = psutil.cpu_percent()\n",
    "        memory_percent = psutil.virtual_memory().percent\n",
    "        print(f\"CPU Utilization: {cpu_percent}%\")\n",
    "        print(f\"Memory Usage: {memory_percent}%\")\n",
    "\n",
    "    def predict(self, X_test):\n",
    "        # Make predictions using the scikit-learn model\n",
    "        return self.model.predict(X_test)\n",
    "\n",
    "# Instantiate and fit the custom model\n",
    "svm_model = CustomSVM()\n",
    "svm_model.fit(X_train, y_train)\n",
    "svm_accuracy = accuracy_score(y_test, svm_predictions)\n",
    "svm_precision = precision_score(y_test, svm_predictions, average='weighted')\n",
    "svm_recall = recall_score(y_test, svm_predictions, average='weighted')\n",
    "svm_f1 = f1_score(y_test, svm_predictions, average='weighted')\n",
    "svm_confusion_matrix = confusion_matrix(y_test, svm_predictions)\n",
    "\n",
    "print(f\"SVM Accuracy: {svm_accuracy:.2f}\")\n",
    "print(f\"SVM Precision: {svm_precision:.2f}\")\n",
    "print(f\"SVM Recall: {svm_recall:.2f}\")\n",
    "print(f\"SVM F1 Score: {svm_f1:.2f}\")\n",
    "print(\"SVM Confusion Matrix:\")\n",
    "print(svm_confusion_matrix)\n",
    "\n",
    "# Make predictions on the test set\n",
    "#svm_predictions = svm_model.predict(X_test)\n",
    "\n",
    "# Evaluate accuracy\n",
    "#svm_accuracy = accuracy_score(y_test, svm_predictions)\n",
    "#print(f\"SVM Accuracy: {svm_accuracy}\")\n",
    "\n"
   ]
  },
  {
   "cell_type": "code",
   "execution_count": 2,
   "metadata": {},
   "outputs": [],
   "source": [
    "\n",
    "# Make predictions on the test set\n",
    "svm_predictions = svm_model.predict(X_test)"
   ]
  },
  {
   "cell_type": "code",
   "execution_count": 3,
   "metadata": {},
   "outputs": [
    {
     "name": "stdout",
     "output_type": "stream",
     "text": [
      "SVM Accuracy: 0.9764285714285714\n",
      "SVM Accuracy: 0.98\n",
      "SVM Precision: 0.98\n",
      "SVM Recall: 0.98\n",
      "SVM F1 Score: 0.98\n",
      "SVM Confusion Matrix:\n",
      "[[1329    1    3    0    1    2    2    1    4    0]\n",
      " [   0 1585    4    3    2    0    0    4    2    0]\n",
      " [   3    4 1348    2    3    2    4    8    5    1]\n",
      " [   0    2   11 1386    2   11    1    9    7    4]\n",
      " [   1    0    2    0 1269    0    3    2    2   16]\n",
      " [   0    1    2   15    2 1236    9    1    7    0]\n",
      " [   1    0    0    0    4    4 1384    0    3    0]\n",
      " [   1    6   12    1    5    1    0 1465    1   11]\n",
      " [   2    6    8   12    4    9    6    4 1303    3]\n",
      " [   5    8    2    8   14    2    0   11    5 1365]]\n"
     ]
    }
   ],
   "source": [
    "# Evaluate accuracy\n",
    "svm_accuracy = accuracy_score(y_test, svm_predictions)\n",
    "print(f\"SVM Accuracy: {svm_accuracy}\")\n",
    "#svm_model.fit(X_train, y_train)\n",
    "#svm_accuracy = accuracy_score(y_test, svm_predictions)\n",
    "svm_precision = precision_score(y_test, svm_predictions, average='weighted')\n",
    "svm_recall = recall_score(y_test, svm_predictions, average='weighted')\n",
    "svm_f1 = f1_score(y_test, svm_predictions, average='weighted')\n",
    "svm_confusion_matrix = confusion_matrix(y_test, svm_predictions)\n",
    "\n",
    "print(f\"SVM Accuracy: {svm_accuracy:.2f}\")\n",
    "print(f\"SVM Precision: {svm_precision:.2f}\")\n",
    "print(f\"SVM Recall: {svm_recall:.2f}\")\n",
    "print(f\"SVM F1 Score: {svm_f1:.2f}\")\n",
    "print(\"SVM Confusion Matrix:\")\n",
    "print(svm_confusion_matrix)"
   ]
  },
  {
   "cell_type": "code",
   "execution_count": null,
   "metadata": {},
   "outputs": [],
   "source": []
  }
 ],
 "metadata": {
  "kernelspec": {
   "display_name": "Python 3",
   "language": "python",
   "name": "python3"
  },
  "language_info": {
   "codemirror_mode": {
    "name": "ipython",
    "version": 3
   },
   "file_extension": ".py",
   "mimetype": "text/x-python",
   "name": "python",
   "nbconvert_exporter": "python",
   "pygments_lexer": "ipython3",
   "version": "3.7.9"
  }
 },
 "nbformat": 4,
 "nbformat_minor": 2
}
