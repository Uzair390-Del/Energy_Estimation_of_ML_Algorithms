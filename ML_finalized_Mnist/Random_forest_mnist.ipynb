{
 "cells": [
  {
   "cell_type": "code",
   "execution_count": 1,
   "metadata": {},
   "outputs": [
    {
     "name": "stdout",
     "output_type": "stream",
     "text": [
      "Training time: 29.95 seconds\n",
      "CPU Utilization: 19.3%\n",
      "Memory Usage: 63.7%\n"
     ]
    }
   ],
   "source": [
    "import numpy as np\n",
    "import psutil\n",
    "import time\n",
    "from sklearn.datasets import fetch_openml\n",
    "from sklearn.model_selection import train_test_split\n",
    "from sklearn.ensemble import RandomForestClassifier\n",
    "from sklearn.metrics import accuracy_score\n",
    "\n",
    "# Load MNIST data\n",
    "mnist = fetch_openml('mnist_784', as_frame=True)\n",
    "X, y = mnist.data.astype('float32').to_numpy(), mnist.target.astype('int')\n",
    "\n",
    "# Flatten the images\n",
    "X_flatten = np.array([image.flatten() for image in X])\n",
    "\n",
    "# Split the data into training and testing sets\n",
    "X_train, X_test, y_train, y_test = train_test_split(X_flatten, y, test_size=0.2, random_state=42)\n",
    "\n",
    "class CustomRandomForest:\n",
    "    def __init__(self, n_estimators=100, max_depth=None):\n",
    "        self.model = RandomForestClassifier(n_estimators=n_estimators, max_depth=max_depth)\n",
    "\n",
    "    def fit(self, X_train, y_train):\n",
    "        start_time = time.time()\n",
    "\n",
    "        # Fit the scikit-learn Random Forest model\n",
    "        self.model.fit(X_train, y_train)\n",
    "\n",
    "        end_time = time.time()\n",
    "        training_time = end_time - start_time\n",
    "        print(f\"Training time: {training_time:.2f} seconds\")\n",
    "\n",
    "        # Monitor system status\n",
    "        cpu_percent = psutil.cpu_percent()\n",
    "        memory_percent = psutil.virtual_memory().percent\n",
    "        print(f\"CPU Utilization: {cpu_percent}%\")\n",
    "        print(f\"Memory Usage: {memory_percent}%\")\n",
    "\n",
    "    def predict(self, X_test):\n",
    "        # Make predictions using the scikit-learn model\n",
    "        return self.model.predict(X_test)\n",
    "\n",
    "# Instantiate and fit the custom model\n",
    "rf_model = CustomRandomForest()\n",
    "rf_model.fit(X_train, y_train)\n",
    "\n",
    "# Make predictions on the test set\n",
    "#rf_predictions = rf_model.predict(X_test)\n",
    "\n",
    "# Evaluate accuracy\n",
    "#rf_accuracy = accuracy_score(y_test, rf_predictions)\n",
    "#print(f\"Random Forest Accuracy: {rf_accuracy}\")\n"
   ]
  },
  {
   "cell_type": "markdown",
   "metadata": {},
   "source": [
    "# 3"
   ]
  },
  {
   "cell_type": "code",
   "execution_count": 2,
   "metadata": {},
   "outputs": [
    {
     "name": "stdout",
     "output_type": "stream",
     "text": [
      "Training time: 31.47 seconds\n",
      "CPU Utilization: 19.1%\n",
      "Memory Usage: 65.7%\n"
     ]
    }
   ],
   "source": [
    "import numpy as np\n",
    "import psutil\n",
    "import time\n",
    "from sklearn.datasets import fetch_openml\n",
    "from sklearn.model_selection import train_test_split\n",
    "from sklearn.ensemble import RandomForestClassifier\n",
    "from sklearn.metrics import accuracy_score\n",
    "\n",
    "# Load MNIST data\n",
    "mnist = fetch_openml('mnist_784', as_frame=True)\n",
    "X, y = mnist.data.astype('float32').to_numpy(), mnist.target.astype('int')\n",
    "\n",
    "# Flatten the images\n",
    "X_flatten = np.array([image.flatten() for image in X])\n",
    "\n",
    "# Split the data into training and testing sets\n",
    "X_train, X_test, y_train, y_test = train_test_split(X_flatten, y, test_size=0.2, random_state=42)\n",
    "\n",
    "class CustomRandomForest:\n",
    "    def __init__(self, n_estimators=100, max_depth=None):\n",
    "        self.model = RandomForestClassifier(n_estimators=n_estimators, max_depth=max_depth)\n",
    "\n",
    "    def fit(self, X_train, y_train):\n",
    "        start_time = time.time()\n",
    "\n",
    "        # Fit the scikit-learn Random Forest model\n",
    "        self.model.fit(X_train, y_train)\n",
    "\n",
    "        end_time = time.time()\n",
    "        training_time = end_time - start_time\n",
    "        print(f\"Training time: {training_time:.2f} seconds\")\n",
    "\n",
    "        # Monitor system status\n",
    "        cpu_percent = psutil.cpu_percent()\n",
    "        memory_percent = psutil.virtual_memory().percent\n",
    "        print(f\"CPU Utilization: {cpu_percent}%\")\n",
    "        print(f\"Memory Usage: {memory_percent}%\")\n",
    "\n",
    "    def predict(self, X_test):\n",
    "        # Make predictions using the scikit-learn model\n",
    "        return self.model.predict(X_test)\n",
    "\n",
    "# Instantiate and fit the custom model\n",
    "rf_model = CustomRandomForest()\n",
    "rf_model.fit(X_train, y_train)\n",
    "\n",
    "# Make predictions on the test set\n",
    "#rf_predictions = rf_model.predict(X_test)\n",
    "\n",
    "# Evaluate accuracy\n",
    "#rf_accuracy = accuracy_score(y_test, rf_predictions)\n",
    "#print(f\"Random Forest Accuracy: {rf_accuracy}\")\n"
   ]
  },
  {
   "cell_type": "markdown",
   "metadata": {},
   "source": [
    "# 4"
   ]
  },
  {
   "cell_type": "code",
   "execution_count": 3,
   "metadata": {},
   "outputs": [
    {
     "name": "stdout",
     "output_type": "stream",
     "text": [
      "Training time: 28.67 seconds\n",
      "CPU Utilization: 20.0%\n",
      "Memory Usage: 65.3%\n"
     ]
    }
   ],
   "source": [
    "import numpy as np\n",
    "import psutil\n",
    "import time\n",
    "from sklearn.datasets import fetch_openml\n",
    "from sklearn.model_selection import train_test_split\n",
    "from sklearn.ensemble import RandomForestClassifier\n",
    "from sklearn.metrics import accuracy_score\n",
    "\n",
    "# Load MNIST data\n",
    "mnist = fetch_openml('mnist_784', as_frame=True)\n",
    "X, y = mnist.data.astype('float32').to_numpy(), mnist.target.astype('int')\n",
    "\n",
    "# Flatten the images\n",
    "X_flatten = np.array([image.flatten() for image in X])\n",
    "\n",
    "# Split the data into training and testing sets\n",
    "X_train, X_test, y_train, y_test = train_test_split(X_flatten, y, test_size=0.2, random_state=42)\n",
    "\n",
    "class CustomRandomForest:\n",
    "    def __init__(self, n_estimators=100, max_depth=None):\n",
    "        self.model = RandomForestClassifier(n_estimators=n_estimators, max_depth=max_depth)\n",
    "\n",
    "    def fit(self, X_train, y_train):\n",
    "        start_time = time.time()\n",
    "\n",
    "        # Fit the scikit-learn Random Forest model\n",
    "        self.model.fit(X_train, y_train)\n",
    "\n",
    "        end_time = time.time()\n",
    "        training_time = end_time - start_time\n",
    "        print(f\"Training time: {training_time:.2f} seconds\")\n",
    "\n",
    "        # Monitor system status\n",
    "        cpu_percent = psutil.cpu_percent()\n",
    "        memory_percent = psutil.virtual_memory().percent\n",
    "        print(f\"CPU Utilization: {cpu_percent}%\")\n",
    "        print(f\"Memory Usage: {memory_percent}%\")\n",
    "\n",
    "    def predict(self, X_test):\n",
    "        # Make predictions using the scikit-learn model\n",
    "        return self.model.predict(X_test)\n",
    "\n",
    "# Instantiate and fit the custom model\n",
    "rf_model = CustomRandomForest()\n",
    "rf_model.fit(X_train, y_train)\n",
    "\n",
    "# Make predictions on the test set\n",
    "#rf_predictions = rf_model.predict(X_test)\n",
    "\n",
    "# Evaluate accuracy\n",
    "#rf_accuracy = accuracy_score(y_test, rf_predictions)\n",
    "#print(f\"Random Forest Accuracy: {rf_accuracy}\")\n"
   ]
  },
  {
   "cell_type": "markdown",
   "metadata": {},
   "source": [
    "# 5"
   ]
  },
  {
   "cell_type": "code",
   "execution_count": 4,
   "metadata": {},
   "outputs": [
    {
     "name": "stdout",
     "output_type": "stream",
     "text": [
      "Training time: 28.98 seconds\n",
      "CPU Utilization: 17.2%\n",
      "Memory Usage: 61.8%\n"
     ]
    }
   ],
   "source": [
    "import numpy as np\n",
    "import psutil\n",
    "import time\n",
    "from sklearn.datasets import fetch_openml\n",
    "from sklearn.model_selection import train_test_split\n",
    "from sklearn.ensemble import RandomForestClassifier\n",
    "from sklearn.metrics import accuracy_score\n",
    "\n",
    "# Load MNIST data\n",
    "mnist = fetch_openml('mnist_784', as_frame=True)\n",
    "X, y = mnist.data.astype('float32').to_numpy(), mnist.target.astype('int')\n",
    "\n",
    "# Flatten the images\n",
    "X_flatten = np.array([image.flatten() for image in X])\n",
    "\n",
    "# Split the data into training and testing sets\n",
    "X_train, X_test, y_train, y_test = train_test_split(X_flatten, y, test_size=0.2, random_state=42)\n",
    "\n",
    "class CustomRandomForest:\n",
    "    def __init__(self, n_estimators=100, max_depth=None):\n",
    "        self.model = RandomForestClassifier(n_estimators=n_estimators, max_depth=max_depth)\n",
    "\n",
    "    def fit(self, X_train, y_train):\n",
    "        start_time = time.time()\n",
    "\n",
    "        # Fit the scikit-learn Random Forest model\n",
    "        self.model.fit(X_train, y_train)\n",
    "\n",
    "        end_time = time.time()\n",
    "        training_time = end_time - start_time\n",
    "        print(f\"Training time: {training_time:.2f} seconds\")\n",
    "\n",
    "        # Monitor system status\n",
    "        cpu_percent = psutil.cpu_percent()\n",
    "        memory_percent = psutil.virtual_memory().percent\n",
    "        print(f\"CPU Utilization: {cpu_percent}%\")\n",
    "        print(f\"Memory Usage: {memory_percent}%\")\n",
    "\n",
    "    def predict(self, X_test):\n",
    "        # Make predictions using the scikit-learn model\n",
    "        return self.model.predict(X_test)\n",
    "\n",
    "# Instantiate and fit the custom model\n",
    "rf_model = CustomRandomForest()\n",
    "rf_model.fit(X_train, y_train)\n",
    "\n",
    "# Make predictions on the test set\n",
    "#rf_predictions = rf_model.predict(X_test)\n",
    "\n",
    "# Evaluate accuracy\n",
    "#rf_accuracy = accuracy_score(y_test, rf_predictions)\n",
    "#print(f\"Random Forest Accuracy: {rf_accuracy}\")\n"
   ]
  },
  {
   "cell_type": "code",
   "execution_count": 5,
   "metadata": {},
   "outputs": [
    {
     "name": "stdout",
     "output_type": "stream",
     "text": [
      "Random Forest Accuracy: 0.9682857142857143\n"
     ]
    }
   ],
   "source": [
    "# Make predictions on the test set\n",
    "rf_predictions = rf_model.predict(X_test)\n",
    "\n",
    "# Evaluate accuracy\n",
    "rf_accuracy = accuracy_score(y_test, rf_predictions)\n",
    "print(f\"Random Forest Accuracy: {rf_accuracy}\")"
   ]
  },
  {
   "cell_type": "markdown",
   "metadata": {},
   "source": [
    "# finding out the performance metrics for random forest "
   ]
  },
  {
   "cell_type": "code",
   "execution_count": 1,
   "metadata": {},
   "outputs": [
    {
     "name": "stdout",
     "output_type": "stream",
     "text": [
      "Training time: 77.71 seconds\n",
      "CPU Utilization: 10.0%\n",
      "Memory Usage: 80.9%\n"
     ]
    },
    {
     "ename": "NameError",
     "evalue": "name 'rf_predictions' is not defined",
     "output_type": "error",
     "traceback": [
      "\u001b[1;31m---------------------------------------------------------------------------\u001b[0m",
      "\u001b[1;31mNameError\u001b[0m                                 Traceback (most recent call last)",
      "\u001b[1;32m~\\AppData\\Local\\Temp\\ipykernel_16884\\945852329.py\u001b[0m in \u001b[0;36m<module>\u001b[1;34m\u001b[0m\n\u001b[0;32m     45\u001b[0m \u001b[0mrf_model\u001b[0m\u001b[1;33m.\u001b[0m\u001b[0mfit\u001b[0m\u001b[1;33m(\u001b[0m\u001b[0mX_train\u001b[0m\u001b[1;33m,\u001b[0m \u001b[0my_train\u001b[0m\u001b[1;33m)\u001b[0m\u001b[1;33m\u001b[0m\u001b[1;33m\u001b[0m\u001b[0m\n\u001b[0;32m     46\u001b[0m \u001b[1;31m# Evaluate accuracy\u001b[0m\u001b[1;33m\u001b[0m\u001b[1;33m\u001b[0m\u001b[1;33m\u001b[0m\u001b[0m\n\u001b[1;32m---> 47\u001b[1;33m \u001b[0mrf_accuracy\u001b[0m \u001b[1;33m=\u001b[0m \u001b[0maccuracy_score\u001b[0m\u001b[1;33m(\u001b[0m\u001b[0my_test\u001b[0m\u001b[1;33m,\u001b[0m \u001b[0mrf_predictions\u001b[0m\u001b[1;33m)\u001b[0m\u001b[1;33m\u001b[0m\u001b[1;33m\u001b[0m\u001b[0m\n\u001b[0m\u001b[0;32m     48\u001b[0m \u001b[0mrf_precision\u001b[0m \u001b[1;33m=\u001b[0m \u001b[0mprecision_score\u001b[0m\u001b[1;33m(\u001b[0m\u001b[0my_test\u001b[0m\u001b[1;33m,\u001b[0m \u001b[0mrf_predictions\u001b[0m\u001b[1;33m,\u001b[0m \u001b[0maverage\u001b[0m\u001b[1;33m=\u001b[0m\u001b[1;34m'weighted'\u001b[0m\u001b[1;33m)\u001b[0m\u001b[1;33m\u001b[0m\u001b[1;33m\u001b[0m\u001b[0m\n\u001b[0;32m     49\u001b[0m \u001b[0mrf_recall\u001b[0m \u001b[1;33m=\u001b[0m \u001b[0mrecall_score\u001b[0m\u001b[1;33m(\u001b[0m\u001b[0my_test\u001b[0m\u001b[1;33m,\u001b[0m \u001b[0mrf_predictions\u001b[0m\u001b[1;33m,\u001b[0m \u001b[0maverage\u001b[0m\u001b[1;33m=\u001b[0m\u001b[1;34m'weighted'\u001b[0m\u001b[1;33m)\u001b[0m\u001b[1;33m\u001b[0m\u001b[1;33m\u001b[0m\u001b[0m\n",
      "\u001b[1;31mNameError\u001b[0m: name 'rf_predictions' is not defined"
     ]
    }
   ],
   "source": [
    "import numpy as np\n",
    "import psutil\n",
    "import time\n",
    "from sklearn.datasets import fetch_openml\n",
    "from sklearn.model_selection import train_test_split\n",
    "from sklearn.ensemble import RandomForestClassifier\n",
    "from sklearn.metrics import accuracy_score,f1_score,precision_score,recall_score,confusion_matrix\n",
    "\n",
    "# Load MNIST data\n",
    "mnist = fetch_openml('mnist_784', as_frame=True)\n",
    "X, y = mnist.data.astype('float32').to_numpy(), mnist.target.astype('int')\n",
    "\n",
    "# Flatten the images\n",
    "X_flatten = np.array([image.flatten() for image in X])\n",
    "\n",
    "# Split the data into training and testing sets\n",
    "X_train, X_test, y_train, y_test = train_test_split(X_flatten, y, test_size=0.2, random_state=42)\n",
    "\n",
    "class CustomRandomForest:\n",
    "    def __init__(self, n_estimators=100, max_depth=None):\n",
    "        self.model = RandomForestClassifier(n_estimators=n_estimators, max_depth=max_depth)\n",
    "\n",
    "    def fit(self, X_train, y_train):\n",
    "        start_time = time.time()\n",
    "\n",
    "        # Fit the scikit-learn Random Forest model\n",
    "        self.model.fit(X_train, y_train)\n",
    "\n",
    "        end_time = time.time()\n",
    "        training_time = end_time - start_time\n",
    "        print(f\"Training time: {training_time:.2f} seconds\")\n",
    "\n",
    "        # Monitor system status\n",
    "        cpu_percent = psutil.cpu_percent()\n",
    "        memory_percent = psutil.virtual_memory().percent\n",
    "        print(f\"CPU Utilization: {cpu_percent}%\")\n",
    "        print(f\"Memory Usage: {memory_percent}%\")\n",
    "\n",
    "    def predict(self, X_test):\n",
    "        # Make predictions using the scikit-learn model\n",
    "        return self.model.predict(X_test)\n",
    "\n",
    "# Instantiate and fit the custom model\n",
    "rf_model = CustomRandomForest()\n",
    "rf_model.fit(X_train, y_train)\n",
    "# Evaluate accuracy\n",
    "rf_accuracy = accuracy_score(y_test, rf_predictions)\n",
    "rf_precision = precision_score(y_test, rf_predictions, average='weighted')\n",
    "rf_recall = recall_score(y_test, rf_predictions, average='weighted')\n",
    "rf_f1 = f1_score(y_test, rf_predictions, average='weighted')\n",
    "rf_confusion_matrix = confusion_matrix(y_test, rf_predictions)\n",
    "\n",
    "print(f\"Random Forest Accuracy: {rf_accuracy:.2f}\")\n",
    "print(f\"Random Forest Precision: {rf_precision:.2f}\")\n",
    "print(f\"Random Forest Recall: {rf_recall:.2f}\")\n",
    "print(f\"Random Forest F1 Score: {rf_f1:.2f}\")\n",
    "print(\"Random Forest Confusion Matrix:\")\n",
    "print(rf_confusion_matrix)\n",
    "\n",
    "# Make predictions on the test set\n",
    "#rf_predictions = rf_model.predict(X_test)\n",
    "\n",
    "# Evaluate accuracy\n",
    "#rf_accuracy = accuracy_score(y_test, rf_predictions)\n",
    "#print(f\"Random Forest Accuracy: {rf_accuracy}\")"
   ]
  },
  {
   "cell_type": "code",
   "execution_count": 2,
   "metadata": {},
   "outputs": [],
   "source": [
    "# Make predictions on the test set\n",
    "rf_predictions = rf_model.predict(X_test)"
   ]
  },
  {
   "cell_type": "code",
   "execution_count": 3,
   "metadata": {},
   "outputs": [
    {
     "name": "stdout",
     "output_type": "stream",
     "text": [
      "Random Forest Accuracy: 0.97\n",
      "Random Forest Precision: 0.97\n",
      "Random Forest Recall: 0.97\n",
      "Random Forest F1 Score: 0.97\n",
      "Random Forest Confusion Matrix:\n",
      "[[1325    0    3    0    2    2    1    1    8    1]\n",
      " [   0 1577    5    7    2    0    0    6    2    1]\n",
      " [   5    6 1333    5    5    1    8    9    7    1]\n",
      " [   1    0   22 1356    0   11    3   17   14    9]\n",
      " [   1    1    4    0 1254    0    4    3    2   26]\n",
      " [   3    5    3   14    1 1226    7    2   10    2]\n",
      " [   2    1    0    0    5   10 1375    0    3    0]\n",
      " [   3    5   19    0    6    1    0 1455    3   11]\n",
      " [   3    6   12   11    5    9    6    6 1291    8]\n",
      " [   6    6    3   14   19    6    1   10   10 1345]]\n"
     ]
    }
   ],
   "source": [
    "rf_accuracy = accuracy_score(y_test, rf_predictions)\n",
    "rf_precision = precision_score(y_test, rf_predictions, average='weighted')\n",
    "rf_recall = recall_score(y_test, rf_predictions, average='weighted')\n",
    "rf_f1 = f1_score(y_test, rf_predictions, average='weighted')\n",
    "rf_confusion_matrix = confusion_matrix(y_test, rf_predictions)\n",
    "print(f\"Random Forest Accuracy: {rf_accuracy:.2f}\")\n",
    "print(f\"Random Forest Precision: {rf_precision:.2f}\")\n",
    "print(f\"Random Forest Recall: {rf_recall:.2f}\")\n",
    "print(f\"Random Forest F1 Score: {rf_f1:.2f}\")\n",
    "print(\"Random Forest Confusion Matrix:\")\n",
    "print(rf_confusion_matrix)"
   ]
  },
  {
   "cell_type": "code",
   "execution_count": null,
   "metadata": {},
   "outputs": [],
   "source": []
  }
 ],
 "metadata": {
  "kernelspec": {
   "display_name": "Python 3",
   "language": "python",
   "name": "python3"
  },
  "language_info": {
   "codemirror_mode": {
    "name": "ipython",
    "version": 3
   },
   "file_extension": ".py",
   "mimetype": "text/x-python",
   "name": "python",
   "nbconvert_exporter": "python",
   "pygments_lexer": "ipython3",
   "version": "3.7.9"
  }
 },
 "nbformat": 4,
 "nbformat_minor": 2
}
