{
 "cells": [
  {
   "cell_type": "markdown",
   "metadata": {},
   "source": [
    "# 2"
   ]
  },
  {
   "cell_type": "code",
   "execution_count": 1,
   "metadata": {},
   "outputs": [
    {
     "name": "stdout",
     "output_type": "stream",
     "text": [
      "Training time: 28.29 seconds\n",
      "CPU Utilization: 42.2%\n",
      "Memory Usage: 80.3%\n"
     ]
    },
    {
     "name": "stderr",
     "output_type": "stream",
     "text": [
      "C:\\Users\\PMLS\\AppData\\Local\\Packages\\PythonSoftwareFoundation.Python.3.7_qbz5n2kfra8p0\\LocalCache\\local-packages\\Python37\\site-packages\\sklearn\\linear_model\\_logistic.py:818: ConvergenceWarning: lbfgs failed to converge (status=1):\n",
      "STOP: TOTAL NO. of ITERATIONS REACHED LIMIT.\n",
      "\n",
      "Increase the number of iterations (max_iter) or scale the data as shown in:\n",
      "    https://scikit-learn.org/stable/modules/preprocessing.html\n",
      "Please also refer to the documentation for alternative solver options:\n",
      "    https://scikit-learn.org/stable/modules/linear_model.html#logistic-regression\n",
      "  extra_warning_msg=_LOGISTIC_SOLVER_CONVERGENCE_MSG,\n"
     ]
    }
   ],
   "source": [
    "import numpy as np\n",
    "import psutil\n",
    "import time\n",
    "from sklearn.datasets import fetch_openml\n",
    "from sklearn.model_selection import train_test_split\n",
    "from sklearn.linear_model import LogisticRegression\n",
    "from sklearn.metrics import accuracy_score\n",
    "\n",
    "# Load MNIST data\n",
    "mnist = fetch_openml('mnist_784', as_frame=True)\n",
    "X, y = mnist.data.astype('float32').to_numpy(), mnist.target.astype('int')\n",
    "\n",
    "# Flatten the images\n",
    "X_flatten = np.array([image.flatten() for image in X])\n",
    "\n",
    "# Split the data into training and testing sets\n",
    "X_train, X_test, y_train, y_test = train_test_split(X_flatten, y, test_size=0.2, random_state=42)\n",
    "\n",
    "class CustomLogisticRegression:\n",
    "    def __init__(self):\n",
    "        self.model = LogisticRegression()\n",
    "\n",
    "    def fit(self, X_train, y_train):\n",
    "        start_time = time.time()\n",
    "\n",
    "        # Fit the scikit-learn logistic regression model\n",
    "        self.model.fit(X_train, y_train)\n",
    "\n",
    "        end_time = time.time()\n",
    "        training_time = end_time - start_time\n",
    "        print(f\"Training time: {training_time:.2f} seconds\")\n",
    "\n",
    "        # Monitor system status\n",
    "        cpu_percent = psutil.cpu_percent()\n",
    "        memory_percent = psutil.virtual_memory().percent\n",
    "        print(f\"CPU Utilization: {cpu_percent}%\")\n",
    "        print(f\"Memory Usage: {memory_percent}%\")\n",
    "\n",
    "    def predict(self, X_test):\n",
    "        # Make predictions using the scikit-learn model\n",
    "        return self.model.predict(X_test)\n",
    "\n",
    "# Instantiate and fit the custom model\n",
    "logreg_model = CustomLogisticRegression()\n",
    "logreg_model.fit(X_train, y_train)\n",
    "\n",
    "# Make predictions on the test set\n",
    "#logreg_predictions = logreg_model.predict(X_test)\n",
    "\n",
    "# Evaluate accuracy\n",
    "#logreg_accuracy = accuracy_score(y_test, logreg_predictions)\n",
    "#print(f\"Logistic Regression Accuracy: {logreg_accuracy}\")\n"
   ]
  },
  {
   "cell_type": "markdown",
   "metadata": {},
   "source": [
    "# 3"
   ]
  },
  {
   "cell_type": "code",
   "execution_count": 2,
   "metadata": {},
   "outputs": [
    {
     "name": "stdout",
     "output_type": "stream",
     "text": [
      "Training time: 26.82 seconds\n",
      "CPU Utilization: 27.2%\n",
      "Memory Usage: 63.4%\n"
     ]
    },
    {
     "name": "stderr",
     "output_type": "stream",
     "text": [
      "C:\\Users\\PMLS\\AppData\\Local\\Packages\\PythonSoftwareFoundation.Python.3.7_qbz5n2kfra8p0\\LocalCache\\local-packages\\Python37\\site-packages\\sklearn\\linear_model\\_logistic.py:818: ConvergenceWarning: lbfgs failed to converge (status=1):\n",
      "STOP: TOTAL NO. of ITERATIONS REACHED LIMIT.\n",
      "\n",
      "Increase the number of iterations (max_iter) or scale the data as shown in:\n",
      "    https://scikit-learn.org/stable/modules/preprocessing.html\n",
      "Please also refer to the documentation for alternative solver options:\n",
      "    https://scikit-learn.org/stable/modules/linear_model.html#logistic-regression\n",
      "  extra_warning_msg=_LOGISTIC_SOLVER_CONVERGENCE_MSG,\n"
     ]
    }
   ],
   "source": [
    "import numpy as np\n",
    "import psutil\n",
    "import time\n",
    "from sklearn.datasets import fetch_openml\n",
    "from sklearn.model_selection import train_test_split\n",
    "from sklearn.linear_model import LogisticRegression\n",
    "from sklearn.metrics import accuracy_score\n",
    "\n",
    "# Load MNIST data\n",
    "mnist = fetch_openml('mnist_784', as_frame=True)\n",
    "X, y = mnist.data.astype('float32').to_numpy(), mnist.target.astype('int')\n",
    "\n",
    "# Flatten the images\n",
    "X_flatten = np.array([image.flatten() for image in X])\n",
    "\n",
    "# Split the data into training and testing sets\n",
    "X_train, X_test, y_train, y_test = train_test_split(X_flatten, y, test_size=0.2, random_state=42)\n",
    "\n",
    "class CustomLogisticRegression:\n",
    "    def __init__(self):\n",
    "        self.model = LogisticRegression()\n",
    "\n",
    "    def fit(self, X_train, y_train):\n",
    "        start_time = time.time()\n",
    "\n",
    "        # Fit the scikit-learn logistic regression model\n",
    "        self.model.fit(X_train, y_train)\n",
    "\n",
    "        end_time = time.time()\n",
    "        training_time = end_time - start_time\n",
    "        print(f\"Training time: {training_time:.2f} seconds\")\n",
    "\n",
    "        # Monitor system status\n",
    "        cpu_percent = psutil.cpu_percent()\n",
    "        memory_percent = psutil.virtual_memory().percent\n",
    "        print(f\"CPU Utilization: {cpu_percent}%\")\n",
    "        print(f\"Memory Usage: {memory_percent}%\")\n",
    "\n",
    "    def predict(self, X_test):\n",
    "        # Make predictions using the scikit-learn model\n",
    "        return self.model.predict(X_test)\n",
    "\n",
    "# Instantiate and fit the custom model\n",
    "logreg_model = CustomLogisticRegression()\n",
    "logreg_model.fit(X_train, y_train)\n",
    "\n",
    "# Make predictions on the test set\n",
    "#logreg_predictions = logreg_model.predict(X_test)\n",
    "\n",
    "# Evaluate accuracy\n",
    "#logreg_accuracy = accuracy_score(y_test, logreg_predictions)\n",
    "#print(f\"Logistic Regression Accuracy: {logreg_accuracy}\")\n"
   ]
  },
  {
   "cell_type": "markdown",
   "metadata": {},
   "source": [
    "# 4"
   ]
  },
  {
   "cell_type": "code",
   "execution_count": 3,
   "metadata": {},
   "outputs": [
    {
     "name": "stdout",
     "output_type": "stream",
     "text": [
      "Training time: 24.28 seconds\n",
      "CPU Utilization: 31.9%\n",
      "Memory Usage: 67.5%\n"
     ]
    },
    {
     "name": "stderr",
     "output_type": "stream",
     "text": [
      "C:\\Users\\PMLS\\AppData\\Local\\Packages\\PythonSoftwareFoundation.Python.3.7_qbz5n2kfra8p0\\LocalCache\\local-packages\\Python37\\site-packages\\sklearn\\linear_model\\_logistic.py:818: ConvergenceWarning: lbfgs failed to converge (status=1):\n",
      "STOP: TOTAL NO. of ITERATIONS REACHED LIMIT.\n",
      "\n",
      "Increase the number of iterations (max_iter) or scale the data as shown in:\n",
      "    https://scikit-learn.org/stable/modules/preprocessing.html\n",
      "Please also refer to the documentation for alternative solver options:\n",
      "    https://scikit-learn.org/stable/modules/linear_model.html#logistic-regression\n",
      "  extra_warning_msg=_LOGISTIC_SOLVER_CONVERGENCE_MSG,\n"
     ]
    }
   ],
   "source": [
    "import numpy as np\n",
    "import psutil\n",
    "import time\n",
    "from sklearn.datasets import fetch_openml\n",
    "from sklearn.model_selection import train_test_split\n",
    "from sklearn.linear_model import LogisticRegression\n",
    "from sklearn.metrics import accuracy_score\n",
    "\n",
    "# Load MNIST data\n",
    "mnist = fetch_openml('mnist_784', as_frame=True)\n",
    "X, y = mnist.data.astype('float32').to_numpy(), mnist.target.astype('int')\n",
    "\n",
    "# Flatten the images\n",
    "X_flatten = np.array([image.flatten() for image in X])\n",
    "\n",
    "# Split the data into training and testing sets\n",
    "X_train, X_test, y_train, y_test = train_test_split(X_flatten, y, test_size=0.2, random_state=42)\n",
    "\n",
    "class CustomLogisticRegression:\n",
    "    def __init__(self):\n",
    "        self.model = LogisticRegression()\n",
    "\n",
    "    def fit(self, X_train, y_train):\n",
    "        start_time = time.time()\n",
    "\n",
    "        # Fit the scikit-learn logistic regression model\n",
    "        self.model.fit(X_train, y_train)\n",
    "\n",
    "        end_time = time.time()\n",
    "        training_time = end_time - start_time\n",
    "        print(f\"Training time: {training_time:.2f} seconds\")\n",
    "\n",
    "        # Monitor system status\n",
    "        cpu_percent = psutil.cpu_percent()\n",
    "        memory_percent = psutil.virtual_memory().percent\n",
    "        print(f\"CPU Utilization: {cpu_percent}%\")\n",
    "        print(f\"Memory Usage: {memory_percent}%\")\n",
    "\n",
    "    def predict(self, X_test):\n",
    "        # Make predictions using the scikit-learn model\n",
    "        return self.model.predict(X_test)\n",
    "\n",
    "# Instantiate and fit the custom model\n",
    "logreg_model = CustomLogisticRegression()\n",
    "logreg_model.fit(X_train, y_train)\n",
    "\n",
    "# Make predictions on the test set\n",
    "#logreg_predictions = logreg_model.predict(X_test)\n",
    "\n",
    "# Evaluate accuracy\n",
    "#logreg_accuracy = accuracy_score(y_test, logreg_predictions)\n",
    "#print(f\"Logistic Regression Accuracy: {logreg_accuracy}\")\n"
   ]
  },
  {
   "cell_type": "markdown",
   "metadata": {},
   "source": [
    "# 5"
   ]
  },
  {
   "cell_type": "code",
   "execution_count": 4,
   "metadata": {},
   "outputs": [
    {
     "name": "stdout",
     "output_type": "stream",
     "text": [
      "Training time: 29.12 seconds\n",
      "CPU Utilization: 30.8%\n",
      "Memory Usage: 68.1%\n"
     ]
    },
    {
     "name": "stderr",
     "output_type": "stream",
     "text": [
      "C:\\Users\\PMLS\\AppData\\Local\\Packages\\PythonSoftwareFoundation.Python.3.7_qbz5n2kfra8p0\\LocalCache\\local-packages\\Python37\\site-packages\\sklearn\\linear_model\\_logistic.py:818: ConvergenceWarning: lbfgs failed to converge (status=1):\n",
      "STOP: TOTAL NO. of ITERATIONS REACHED LIMIT.\n",
      "\n",
      "Increase the number of iterations (max_iter) or scale the data as shown in:\n",
      "    https://scikit-learn.org/stable/modules/preprocessing.html\n",
      "Please also refer to the documentation for alternative solver options:\n",
      "    https://scikit-learn.org/stable/modules/linear_model.html#logistic-regression\n",
      "  extra_warning_msg=_LOGISTIC_SOLVER_CONVERGENCE_MSG,\n"
     ]
    }
   ],
   "source": [
    "import numpy as np\n",
    "import psutil\n",
    "import time\n",
    "from sklearn.datasets import fetch_openml\n",
    "from sklearn.model_selection import train_test_split\n",
    "from sklearn.linear_model import LogisticRegression\n",
    "from sklearn.metrics import accuracy_score\n",
    "\n",
    "# Load MNIST data\n",
    "mnist = fetch_openml('mnist_784', as_frame=True)\n",
    "X, y = mnist.data.astype('float32').to_numpy(), mnist.target.astype('int')\n",
    "\n",
    "# Flatten the images\n",
    "X_flatten = np.array([image.flatten() for image in X])\n",
    "\n",
    "# Split the data into training and testing sets\n",
    "X_train, X_test, y_train, y_test = train_test_split(X_flatten, y, test_size=0.2, random_state=42)\n",
    "\n",
    "class CustomLogisticRegression:\n",
    "    def __init__(self):\n",
    "        self.model = LogisticRegression()\n",
    "\n",
    "    def fit(self, X_train, y_train):\n",
    "        start_time = time.time()\n",
    "\n",
    "        # Fit the scikit-learn logistic regression model\n",
    "        self.model.fit(X_train, y_train)\n",
    "\n",
    "        end_time = time.time()\n",
    "        training_time = end_time - start_time\n",
    "        print(f\"Training time: {training_time:.2f} seconds\")\n",
    "\n",
    "        # Monitor system status\n",
    "        cpu_percent = psutil.cpu_percent()\n",
    "        memory_percent = psutil.virtual_memory().percent\n",
    "        print(f\"CPU Utilization: {cpu_percent}%\")\n",
    "        print(f\"Memory Usage: {memory_percent}%\")\n",
    "\n",
    "    def predict(self, X_test):\n",
    "        # Make predictions using the scikit-learn model\n",
    "        return self.model.predict(X_test)\n",
    "\n",
    "# Instantiate and fit the custom model\n",
    "logreg_model = CustomLogisticRegression()\n",
    "logreg_model.fit(X_train, y_train)\n",
    "\n",
    "# Make predictions on the test set\n",
    "#logreg_predictions = logreg_model.predict(X_test)\n",
    "\n",
    "# Evaluate accuracy\n",
    "#logreg_accuracy = accuracy_score(y_test, logreg_predictions)\n",
    "#print(f\"Logistic Regression Accuracy: {logreg_accuracy}\")\n"
   ]
  },
  {
   "cell_type": "code",
   "execution_count": null,
   "metadata": {},
   "outputs": [],
   "source": []
  }
 ],
 "metadata": {
  "kernelspec": {
   "display_name": "Python 3",
   "language": "python",
   "name": "python3"
  },
  "language_info": {
   "codemirror_mode": {
    "name": "ipython",
    "version": 3
   },
   "file_extension": ".py",
   "mimetype": "text/x-python",
   "name": "python",
   "nbconvert_exporter": "python",
   "pygments_lexer": "ipython3",
   "version": "3.7.9"
  }
 },
 "nbformat": 4,
 "nbformat_minor": 2
}
